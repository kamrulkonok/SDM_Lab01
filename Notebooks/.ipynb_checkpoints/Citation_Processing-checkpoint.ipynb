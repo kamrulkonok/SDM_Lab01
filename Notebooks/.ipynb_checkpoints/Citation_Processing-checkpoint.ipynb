{
 "cells": [
  {
   "cell_type": "markdown",
   "metadata": {},
   "source": [
    "# Citation\n",
    "\n",
    "For Citations, we should use the existing papers that we have to cite each other. This way we will be able to have a graph system. Using the existing (real) citations, we won't find the relationships within the tables.\n",
    "\n",
    "- Another point to note is that a paper would cite a paper from a related field, not just any random field. Eg. Doesn't make sense that an NLP paper cites a quantum paper.\n",
    "\n",
    "Therefore, we need some papers from the keywords that I have provided to Konok."
   ]
  },
  {
   "cell_type": "code",
   "execution_count": 1,
   "metadata": {},
   "outputs": [],
   "source": [
    "import pandas as pd\n",
    "import numpy as np\n",
    "import random\n",
    "np.random.seed(0)"
   ]
  },
  {
   "cell_type": "code",
   "execution_count": 2,
   "metadata": {},
   "outputs": [
    {
     "data": {
      "text/html": [
       "<div>\n",
       "<style scoped>\n",
       "    .dataframe tbody tr th:only-of-type {\n",
       "        vertical-align: middle;\n",
       "    }\n",
       "\n",
       "    .dataframe tbody tr th {\n",
       "        vertical-align: top;\n",
       "    }\n",
       "\n",
       "    .dataframe thead th {\n",
       "        text-align: right;\n",
       "    }\n",
       "</style>\n",
       "<table border=\"1\" class=\"dataframe\">\n",
       "  <thead>\n",
       "    <tr style=\"text-align: right;\">\n",
       "      <th></th>\n",
       "      <th>field_query</th>\n",
       "      <th>paperId</th>\n",
       "      <th>title</th>\n",
       "      <th>url</th>\n",
       "      <th>venue</th>\n",
       "      <th>publicationTypes</th>\n",
       "      <th>abstract</th>\n",
       "      <th>year</th>\n",
       "      <th>citationCount</th>\n",
       "      <th>journal_name</th>\n",
       "      <th>journal_volume</th>\n",
       "      <th>journal_pages</th>\n",
       "    </tr>\n",
       "  </thead>\n",
       "  <tbody>\n",
       "    <tr>\n",
       "      <th>0</th>\n",
       "      <td>NLP</td>\n",
       "      <td>29ddc1f43f28af7c846515e32cc167bc66886d0c</td>\n",
       "      <td>Parameter-Efficient Transfer Learning for NLP</td>\n",
       "      <td>https://www.semanticscholar.org/paper/29ddc1f4...</td>\n",
       "      <td>International Conference on Machine Learning</td>\n",
       "      <td>['JournalArticle', 'Conference']</td>\n",
       "      <td>Fine-tuning large pre-trained models is an eff...</td>\n",
       "      <td>2019</td>\n",
       "      <td>2453</td>\n",
       "      <td>ArXiv</td>\n",
       "      <td>abs/1902.00751</td>\n",
       "      <td>NaN</td>\n",
       "    </tr>\n",
       "    <tr>\n",
       "      <th>1</th>\n",
       "      <td>NLP</td>\n",
       "      <td>58ed1fbaabe027345f7bb3a6312d41c5aac63e22</td>\n",
       "      <td>Retrieval-Augmented Generation for Knowledge-I...</td>\n",
       "      <td>https://www.semanticscholar.org/paper/58ed1fba...</td>\n",
       "      <td>Neural Information Processing Systems</td>\n",
       "      <td>['JournalArticle']</td>\n",
       "      <td>Large pre-trained language models have been sh...</td>\n",
       "      <td>2020</td>\n",
       "      <td>1686</td>\n",
       "      <td>ArXiv</td>\n",
       "      <td>abs/2005.11401</td>\n",
       "      <td>NaN</td>\n",
       "    </tr>\n",
       "    <tr>\n",
       "      <th>2</th>\n",
       "      <td>NLP</td>\n",
       "      <td>d6a083dad7114f3a39adc65c09bfbb6cf3fee9ea</td>\n",
       "      <td>Energy and Policy Considerations for Deep Lear...</td>\n",
       "      <td>https://www.semanticscholar.org/paper/d6a083da...</td>\n",
       "      <td>Annual Meeting of the Association for Computat...</td>\n",
       "      <td>['JournalArticle', 'Conference']</td>\n",
       "      <td>Recent progress in hardware and methodology fo...</td>\n",
       "      <td>2019</td>\n",
       "      <td>2113</td>\n",
       "      <td>ArXiv</td>\n",
       "      <td>abs/1906.02243</td>\n",
       "      <td>NaN</td>\n",
       "    </tr>\n",
       "    <tr>\n",
       "      <th>3</th>\n",
       "      <td>NLP</td>\n",
       "      <td>06d7cb8c8816360feb33c3367073e0ef66d7d0b0</td>\n",
       "      <td>Super-NaturalInstructions: Generalization via ...</td>\n",
       "      <td>https://www.semanticscholar.org/paper/06d7cb8c...</td>\n",
       "      <td>Conference on Empirical Methods in Natural Lan...</td>\n",
       "      <td>['JournalArticle', 'Conference']</td>\n",
       "      <td>How well can NLP models generalize to a variet...</td>\n",
       "      <td>2022</td>\n",
       "      <td>432</td>\n",
       "      <td>NaN</td>\n",
       "      <td>NaN</td>\n",
       "      <td>5085-5109</td>\n",
       "    </tr>\n",
       "    <tr>\n",
       "      <th>4</th>\n",
       "      <td>NLP</td>\n",
       "      <td>5471114e37448bea2457b74894b1ecb92bbcfdf6</td>\n",
       "      <td>From Pretraining Data to Language Models to Do...</td>\n",
       "      <td>https://www.semanticscholar.org/paper/5471114e...</td>\n",
       "      <td>Annual Meeting of the Association for Computat...</td>\n",
       "      <td>['JournalArticle', 'Conference']</td>\n",
       "      <td>Language models (LMs) are pretrained on divers...</td>\n",
       "      <td>2023</td>\n",
       "      <td>72</td>\n",
       "      <td>ArXiv</td>\n",
       "      <td>abs/2305.08283</td>\n",
       "      <td>NaN</td>\n",
       "    </tr>\n",
       "  </tbody>\n",
       "</table>\n",
       "</div>"
      ],
      "text/plain": [
       "  field_query                                   paperId  \\\n",
       "0         NLP  29ddc1f43f28af7c846515e32cc167bc66886d0c   \n",
       "1         NLP  58ed1fbaabe027345f7bb3a6312d41c5aac63e22   \n",
       "2         NLP  d6a083dad7114f3a39adc65c09bfbb6cf3fee9ea   \n",
       "3         NLP  06d7cb8c8816360feb33c3367073e0ef66d7d0b0   \n",
       "4         NLP  5471114e37448bea2457b74894b1ecb92bbcfdf6   \n",
       "\n",
       "                                               title  \\\n",
       "0      Parameter-Efficient Transfer Learning for NLP   \n",
       "1  Retrieval-Augmented Generation for Knowledge-I...   \n",
       "2  Energy and Policy Considerations for Deep Lear...   \n",
       "3  Super-NaturalInstructions: Generalization via ...   \n",
       "4  From Pretraining Data to Language Models to Do...   \n",
       "\n",
       "                                                 url  \\\n",
       "0  https://www.semanticscholar.org/paper/29ddc1f4...   \n",
       "1  https://www.semanticscholar.org/paper/58ed1fba...   \n",
       "2  https://www.semanticscholar.org/paper/d6a083da...   \n",
       "3  https://www.semanticscholar.org/paper/06d7cb8c...   \n",
       "4  https://www.semanticscholar.org/paper/5471114e...   \n",
       "\n",
       "                                               venue  \\\n",
       "0       International Conference on Machine Learning   \n",
       "1              Neural Information Processing Systems   \n",
       "2  Annual Meeting of the Association for Computat...   \n",
       "3  Conference on Empirical Methods in Natural Lan...   \n",
       "4  Annual Meeting of the Association for Computat...   \n",
       "\n",
       "                   publicationTypes  \\\n",
       "0  ['JournalArticle', 'Conference']   \n",
       "1                ['JournalArticle']   \n",
       "2  ['JournalArticle', 'Conference']   \n",
       "3  ['JournalArticle', 'Conference']   \n",
       "4  ['JournalArticle', 'Conference']   \n",
       "\n",
       "                                            abstract  year  citationCount  \\\n",
       "0  Fine-tuning large pre-trained models is an eff...  2019           2453   \n",
       "1  Large pre-trained language models have been sh...  2020           1686   \n",
       "2  Recent progress in hardware and methodology fo...  2019           2113   \n",
       "3  How well can NLP models generalize to a variet...  2022            432   \n",
       "4  Language models (LMs) are pretrained on divers...  2023             72   \n",
       "\n",
       "  journal_name  journal_volume journal_pages  \n",
       "0        ArXiv  abs/1902.00751           NaN  \n",
       "1        ArXiv  abs/2005.11401           NaN  \n",
       "2        ArXiv  abs/1906.02243           NaN  \n",
       "3          NaN             NaN     5085-5109  \n",
       "4        ArXiv  abs/2305.08283           NaN  "
      ]
     },
     "execution_count": 2,
     "metadata": {},
     "output_type": "execute_result"
    }
   ],
   "source": [
    "# Data\n",
    "\n",
    "df_papers = pd.read_csv('../konok_data/papers_data.csv')\n",
    "df_papers.head()"
   ]
  },
  {
   "cell_type": "code",
   "execution_count": 3,
   "metadata": {},
   "outputs": [
    {
     "name": "stdout",
     "output_type": "stream",
     "text": [
      "<class 'pandas.core.frame.DataFrame'>\n",
      "RangeIndex: 1200 entries, 0 to 1199\n",
      "Data columns (total 12 columns):\n",
      " #   Column            Non-Null Count  Dtype \n",
      "---  ------            --------------  ----- \n",
      " 0   field_query       1200 non-null   object\n",
      " 1   paperId           1200 non-null   object\n",
      " 2   title             1200 non-null   object\n",
      " 3   url               1200 non-null   object\n",
      " 4   venue             1122 non-null   object\n",
      " 5   publicationTypes  1034 non-null   object\n",
      " 6   abstract          892 non-null    object\n",
      " 7   year              1200 non-null   int64 \n",
      " 8   citationCount     1200 non-null   int64 \n",
      " 9   journal_name      1038 non-null   object\n",
      " 10  journal_volume    776 non-null    object\n",
      " 11  journal_pages     645 non-null    object\n",
      "dtypes: int64(2), object(10)\n",
      "memory usage: 112.6+ KB\n"
     ]
    }
   ],
   "source": [
    "df_papers.info()"
   ]
  },
  {
   "cell_type": "code",
   "execution_count": 4,
   "metadata": {},
   "outputs": [
    {
     "data": {
      "text/plain": [
       "1200"
      ]
     },
     "execution_count": 4,
     "metadata": {},
     "output_type": "execute_result"
    }
   ],
   "source": [
    "len(df_papers)"
   ]
  },
  {
   "cell_type": "code",
   "execution_count": 5,
   "metadata": {},
   "outputs": [
    {
     "data": {
      "text/plain": [
       "NLP                  100\n",
       "Machine Learning     100\n",
       "LLM                  100\n",
       "Deep Learning        100\n",
       "Quantum Computing    100\n",
       "Graph Database       100\n",
       "Data Management      100\n",
       "Data Modeling        100\n",
       " Big Data            100\n",
       "Data Processing      100\n",
       "Data Storage         100\n",
       "Data Querying        100\n",
       "Name: field_query, dtype: int64"
      ]
     },
     "execution_count": 5,
     "metadata": {},
     "output_type": "execute_result"
    }
   ],
   "source": [
    "df_papers['field_query'].value_counts()"
   ]
  },
  {
   "cell_type": "markdown",
   "metadata": {},
   "source": [
    "Given an NLP paper, it may cite graph database, but probably not Quantum computing. But wait, since we now have to use the keywords which are general and similar to each other, lets just let them cite one another without the field type.\n",
    "\n",
    "Now, it is not necessary that our data source will have all the citations for a particular paper. So, lets pick a number randomly & use only those number of paper ids to cite that paper.\n",
    "\n",
    "Make sure that the same id is not used to cite the paper."
   ]
  },
  {
   "cell_type": "code",
   "execution_count": 6,
   "metadata": {},
   "outputs": [],
   "source": [
    "df_papers_new = df_papers[['paperId']]"
   ]
  },
  {
   "cell_type": "code",
   "execution_count": 7,
   "metadata": {},
   "outputs": [
    {
     "data": {
      "text/plain": [
       "1200"
      ]
     },
     "execution_count": 7,
     "metadata": {},
     "output_type": "execute_result"
    }
   ],
   "source": [
    "random_numbers = np.random.randint(15, 51, size=len(df_papers))\n",
    "len(random_numbers)"
   ]
  },
  {
   "cell_type": "code",
   "execution_count": 8,
   "metadata": {},
   "outputs": [
    {
     "name": "stderr",
     "output_type": "stream",
     "text": [
      "<ipython-input-8-05ea452f9aae>:1: SettingWithCopyWarning: \n",
      "A value is trying to be set on a copy of a slice from a DataFrame.\n",
      "Try using .loc[row_indexer,col_indexer] = value instead\n",
      "\n",
      "See the caveats in the documentation: https://pandas.pydata.org/pandas-docs/stable/user_guide/indexing.html#returning-a-view-versus-a-copy\n",
      "  df_papers_new['random_cites'] = random_numbers\n"
     ]
    },
    {
     "data": {
      "text/html": [
       "<div>\n",
       "<style scoped>\n",
       "    .dataframe tbody tr th:only-of-type {\n",
       "        vertical-align: middle;\n",
       "    }\n",
       "\n",
       "    .dataframe tbody tr th {\n",
       "        vertical-align: top;\n",
       "    }\n",
       "\n",
       "    .dataframe thead th {\n",
       "        text-align: right;\n",
       "    }\n",
       "</style>\n",
       "<table border=\"1\" class=\"dataframe\">\n",
       "  <thead>\n",
       "    <tr style=\"text-align: right;\">\n",
       "      <th></th>\n",
       "      <th>paperId</th>\n",
       "      <th>random_cites</th>\n",
       "    </tr>\n",
       "  </thead>\n",
       "  <tbody>\n",
       "    <tr>\n",
       "      <th>0</th>\n",
       "      <td>29ddc1f43f28af7c846515e32cc167bc66886d0c</td>\n",
       "      <td>15</td>\n",
       "    </tr>\n",
       "    <tr>\n",
       "      <th>1</th>\n",
       "      <td>58ed1fbaabe027345f7bb3a6312d41c5aac63e22</td>\n",
       "      <td>18</td>\n",
       "    </tr>\n",
       "    <tr>\n",
       "      <th>2</th>\n",
       "      <td>d6a083dad7114f3a39adc65c09bfbb6cf3fee9ea</td>\n",
       "      <td>18</td>\n",
       "    </tr>\n",
       "    <tr>\n",
       "      <th>3</th>\n",
       "      <td>06d7cb8c8816360feb33c3367073e0ef66d7d0b0</td>\n",
       "      <td>24</td>\n",
       "    </tr>\n",
       "    <tr>\n",
       "      <th>4</th>\n",
       "      <td>5471114e37448bea2457b74894b1ecb92bbcfdf6</td>\n",
       "      <td>34</td>\n",
       "    </tr>\n",
       "  </tbody>\n",
       "</table>\n",
       "</div>"
      ],
      "text/plain": [
       "                                    paperId  random_cites\n",
       "0  29ddc1f43f28af7c846515e32cc167bc66886d0c            15\n",
       "1  58ed1fbaabe027345f7bb3a6312d41c5aac63e22            18\n",
       "2  d6a083dad7114f3a39adc65c09bfbb6cf3fee9ea            18\n",
       "3  06d7cb8c8816360feb33c3367073e0ef66d7d0b0            24\n",
       "4  5471114e37448bea2457b74894b1ecb92bbcfdf6            34"
      ]
     },
     "execution_count": 8,
     "metadata": {},
     "output_type": "execute_result"
    }
   ],
   "source": [
    "df_papers_new['random_cites'] = random_numbers\n",
    "df_papers_new.head()"
   ]
  },
  {
   "cell_type": "markdown",
   "metadata": {},
   "source": [
    "Now, use other paper ids based on the number in the random_cites column for citations. Do NOT cite your own paper."
   ]
  },
  {
   "cell_type": "code",
   "execution_count": 9,
   "metadata": {},
   "outputs": [
    {
     "name": "stderr",
     "output_type": "stream",
     "text": [
      "<ipython-input-9-e026f1a24413>:18: SettingWithCopyWarning: \n",
      "A value is trying to be set on a copy of a slice from a DataFrame.\n",
      "Try using .loc[row_indexer,col_indexer] = value instead\n",
      "\n",
      "See the caveats in the documentation: https://pandas.pydata.org/pandas-docs/stable/user_guide/indexing.html#returning-a-view-versus-a-copy\n",
      "  df_papers_new['Citations'] = df_papers_new.apply(generate_citations, axis=1)\n"
     ]
    },
    {
     "data": {
      "text/html": [
       "<div>\n",
       "<style scoped>\n",
       "    .dataframe tbody tr th:only-of-type {\n",
       "        vertical-align: middle;\n",
       "    }\n",
       "\n",
       "    .dataframe tbody tr th {\n",
       "        vertical-align: top;\n",
       "    }\n",
       "\n",
       "    .dataframe thead th {\n",
       "        text-align: right;\n",
       "    }\n",
       "</style>\n",
       "<table border=\"1\" class=\"dataframe\">\n",
       "  <thead>\n",
       "    <tr style=\"text-align: right;\">\n",
       "      <th></th>\n",
       "      <th>paperId</th>\n",
       "      <th>random_cites</th>\n",
       "      <th>Citations</th>\n",
       "    </tr>\n",
       "  </thead>\n",
       "  <tbody>\n",
       "    <tr>\n",
       "      <th>0</th>\n",
       "      <td>29ddc1f43f28af7c846515e32cc167bc66886d0c</td>\n",
       "      <td>15</td>\n",
       "      <td>[5c45a5d05ac564adb67811eeb9d41d6460c70135, 63a...</td>\n",
       "    </tr>\n",
       "    <tr>\n",
       "      <th>1</th>\n",
       "      <td>58ed1fbaabe027345f7bb3a6312d41c5aac63e22</td>\n",
       "      <td>18</td>\n",
       "      <td>[7676c02ea839ff1ceb6e5e1427c42bc45e169bde, ce2...</td>\n",
       "    </tr>\n",
       "    <tr>\n",
       "      <th>2</th>\n",
       "      <td>d6a083dad7114f3a39adc65c09bfbb6cf3fee9ea</td>\n",
       "      <td>18</td>\n",
       "      <td>[9d6aa5247b9919a86f174e918107c234c548274d, 13c...</td>\n",
       "    </tr>\n",
       "    <tr>\n",
       "      <th>3</th>\n",
       "      <td>06d7cb8c8816360feb33c3367073e0ef66d7d0b0</td>\n",
       "      <td>24</td>\n",
       "      <td>[90aca7b4cdd728b28b2fb5b4dc3ae3e37daa5b94, ed9...</td>\n",
       "    </tr>\n",
       "    <tr>\n",
       "      <th>4</th>\n",
       "      <td>5471114e37448bea2457b74894b1ecb92bbcfdf6</td>\n",
       "      <td>34</td>\n",
       "      <td>[ca0e479ba2327f71e842d033b6b48b082962cc6a, dca...</td>\n",
       "    </tr>\n",
       "  </tbody>\n",
       "</table>\n",
       "</div>"
      ],
      "text/plain": [
       "                                    paperId  random_cites  \\\n",
       "0  29ddc1f43f28af7c846515e32cc167bc66886d0c            15   \n",
       "1  58ed1fbaabe027345f7bb3a6312d41c5aac63e22            18   \n",
       "2  d6a083dad7114f3a39adc65c09bfbb6cf3fee9ea            18   \n",
       "3  06d7cb8c8816360feb33c3367073e0ef66d7d0b0            24   \n",
       "4  5471114e37448bea2457b74894b1ecb92bbcfdf6            34   \n",
       "\n",
       "                                           Citations  \n",
       "0  [5c45a5d05ac564adb67811eeb9d41d6460c70135, 63a...  \n",
       "1  [7676c02ea839ff1ceb6e5e1427c42bc45e169bde, ce2...  \n",
       "2  [9d6aa5247b9919a86f174e918107c234c548274d, 13c...  \n",
       "3  [90aca7b4cdd728b28b2fb5b4dc3ae3e37daa5b94, ed9...  \n",
       "4  [ca0e479ba2327f71e842d033b6b48b082962cc6a, dca...  "
      ]
     },
     "execution_count": 9,
     "metadata": {},
     "output_type": "execute_result"
    }
   ],
   "source": [
    "# Generate a list of unique paper IDs\n",
    "all_paper_ids = df_papers_new['paperId'].unique()\n",
    "\n",
    "# Function to generate citations for each row\n",
    "def generate_citations(row):\n",
    "    paper_id = row['paperId']\n",
    "    cite_number = row['random_cites']\n",
    "    \n",
    "    # Remove the current paperid from the list of all_paper_ids\n",
    "    other_paper_ids = np.delete(all_paper_ids, np.where(all_paper_ids == paper_id))\n",
    "    \n",
    "    # Randomly select cites_number IDs from other_paper_ids\n",
    "    citations = list(np.random.choice(other_paper_ids, cite_number, replace=False))\n",
    "    \n",
    "    return citations\n",
    "\n",
    "# Apply the function to each row to generate the citations\n",
    "df_papers_new['Citations'] = df_papers_new.apply(generate_citations, axis=1)\n",
    "\n",
    "df_papers_new.head()"
   ]
  },
  {
   "cell_type": "code",
   "execution_count": 10,
   "metadata": {},
   "outputs": [
    {
     "data": {
      "text/plain": [
       "['7676c02ea839ff1ceb6e5e1427c42bc45e169bde',\n",
       " 'ce2d5b5856bb6c9ab5c2390eb8b180c75a162055',\n",
       " 'c0aec04ee86c0724d61c976f19590fbe9c615723',\n",
       " '9d6aa5247b9919a86f174e918107c234c548274d',\n",
       " 'f295157f37cfb43cd8d8d2690ea124edc5ea59c2',\n",
       " '4e58100b319d74f97ed550a4e5fa32dea8c06fe1',\n",
       " 'b3dbe1b460a3b66df1653508c9eed7dd51dee4d2',\n",
       " '63adc1e5086481e36b19b62707a96b799da51e59',\n",
       " '7171a0e9b07ebc98a32eb912262613efc20f283a',\n",
       " '752604994a7ca548ff2954114fc61a501d857b1c',\n",
       " 'd6e1e4f0ad898ca6ac37e6e139a77fa3982170d4',\n",
       " '4f8d648c52edf74e41b0996128aa536e13cc7e82',\n",
       " 'e449b9b3fe04fe260731a3c74d2123bf6eaadf5b',\n",
       " '52a6695ae1c08cc29baf764dedb5831c7a954214',\n",
       " '41c93960a066876d5e4f1dacaef75cd8daa2791f',\n",
       " '375125029b085e70a109491656b69aa01bc2a166',\n",
       " '4bd3c9e1bb1ca2df62b66201616b8740300efd0a',\n",
       " 'f72d3f58ff73353978e224af348448b34d27cf7b']"
      ]
     },
     "execution_count": 10,
     "metadata": {},
     "output_type": "execute_result"
    }
   ],
   "source": [
    "df_papers_new['Citations'][1]"
   ]
  },
  {
   "cell_type": "code",
   "execution_count": 11,
   "metadata": {},
   "outputs": [],
   "source": [
    "# delete random_cites column\n",
    "\n",
    "df_papers_new = df_papers_new.drop(columns=['random_cites'])\n"
   ]
  },
  {
   "cell_type": "code",
   "execution_count": 12,
   "metadata": {},
   "outputs": [],
   "source": [
    "df_papers_new.to_csv('../aryan_data/citations_info.csv', index=False)"
   ]
  },
  {
   "cell_type": "code",
   "execution_count": null,
   "metadata": {},
   "outputs": [],
   "source": []
  },
  {
   "cell_type": "code",
   "execution_count": null,
   "metadata": {},
   "outputs": [],
   "source": []
  },
  {
   "cell_type": "code",
   "execution_count": null,
   "metadata": {},
   "outputs": [],
   "source": []
  }
 ],
 "metadata": {
  "kernelspec": {
   "display_name": "Python 3",
   "language": "python",
   "name": "python3"
  },
  "language_info": {
   "codemirror_mode": {
    "name": "ipython",
    "version": 3
   },
   "file_extension": ".py",
   "mimetype": "text/x-python",
   "name": "python",
   "nbconvert_exporter": "python",
   "pygments_lexer": "ipython3",
   "version": "3.8.5"
  }
 },
 "nbformat": 4,
 "nbformat_minor": 4
}
