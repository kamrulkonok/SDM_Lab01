{
 "cells": [
  {
   "cell_type": "code",
   "execution_count": 16,
   "id": "036ad93a",
   "metadata": {},
   "outputs": [],
   "source": [
    "import pandas as pd\n",
    "import nltk\n",
    "from nltk.corpus import stopwords\n",
    "from nltk.tokenize import word_tokenize\n",
    "import spacy\n",
    "from collections import Counter\n",
    "import string"
   ]
  },
  {
   "cell_type": "code",
   "execution_count": 17,
   "id": "4280865b",
   "metadata": {},
   "outputs": [
    {
     "name": "stderr",
     "output_type": "stream",
     "text": [
      "[nltk_data] Downloading package punkt to\n",
      "[nltk_data]     /Users/kamrul.konok/nltk_data...\n",
      "[nltk_data]   Package punkt is already up-to-date!\n",
      "[nltk_data] Downloading package stopwords to\n",
      "[nltk_data]     /Users/kamrul.konok/nltk_data...\n",
      "[nltk_data]   Package stopwords is already up-to-date!\n"
     ]
    }
   ],
   "source": [
    "# Ensure the necessary resources are downloaded\n",
    "nltk.download('punkt')\n",
    "nltk.download('stopwords')\n",
    "\n",
    "# Load the SpaCy English language model\n",
    "nlp = spacy.load('en_core_web_sm')"
   ]
  },
  {
   "cell_type": "code",
   "execution_count": 18,
   "id": "962bd5f0",
   "metadata": {},
   "outputs": [],
   "source": [
    "def preprocess_text(text):\n",
    "    \"\"\"Preprocess text by lowering case, removing punctuation and stopwords.\"\"\"\n",
    "    text = str(text).lower()\n",
    "    text = text.translate(str.maketrans('', '', string.punctuation))\n",
    "    tokens = word_tokenize(text)\n",
    "    tokens = [word for word in tokens if word not in stopwords.words('english')]\n",
    "    return ' '.join(tokens)\n",
    "\n",
    "def extract_keywords(text, field_query, n=4):\n",
    "    \"\"\"Extract keywords from text using SpaCy for NLP processing, including the field_query.\"\"\"\n",
    "    processed_text = preprocess_text(text)\n",
    "    doc = nlp(processed_text)\n",
    "    words = [token.text for token in doc if token.pos_ in ['NOUN', 'PROPN']]  # Extract nouns and proper nouns\n",
    "    words.append(field_query.lower())\n",
    "    most_common_words = [word[0] for word in Counter(words).most_common(n)]\n",
    "    if field_query.lower() not in most_common_words:\n",
    "        most_common_words.pop()\n",
    "        most_common_words.append(field_query.lower())\n",
    "    \n",
    "    return most_common_words\n",
    "\n",
    "def main():\n",
    "    file_path = '/Users/kamrul.konok/Desktop/SDM_Lab01/aryan_data/papers_info.csv'\n",
    "    papers_data = pd.read_csv(file_path)\n",
    "    papers_data['keywords'] = papers_data.apply(lambda x: extract_keywords(x['abstract'], x['field_query']), axis=1)\n",
    "    keywords_info = papers_data[['paperId', 'keywords']]\n",
    "    keywords_info.to_csv('keyword_info.csv', index=False)\n",
    "\n",
    "if __name__ == \"__main__\":\n",
    "    main()"
   ]
  },
  {
   "cell_type": "code",
   "execution_count": null,
   "id": "9e039b09",
   "metadata": {},
   "outputs": [],
   "source": []
  }
 ],
 "metadata": {
  "kernelspec": {
   "display_name": "Python 3 (ipykernel)",
   "language": "python",
   "name": "python3"
  },
  "language_info": {
   "codemirror_mode": {
    "name": "ipython",
    "version": 3
   },
   "file_extension": ".py",
   "mimetype": "text/x-python",
   "name": "python",
   "nbconvert_exporter": "python",
   "pygments_lexer": "ipython3",
   "version": "3.11.5"
  }
 },
 "nbformat": 4,
 "nbformat_minor": 5
}
